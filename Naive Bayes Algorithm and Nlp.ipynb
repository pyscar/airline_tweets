{
 "cells": [
  {
   "cell_type": "markdown",
   "id": "6d56e0cc",
   "metadata": {},
   "source": [
    "# Naive Bayes And NLP"
   ]
  },
  {
   "cell_type": "markdown",
   "id": "fb17aebe",
   "metadata": {},
   "source": [
    "Bayes Theorem is a probability formula that leverages previously known probabilities to define probability of related events\n",
    "occuring"
   ]
  },
  {
   "cell_type": "markdown",
   "id": "c49271da",
   "metadata": {},
   "source": [
    "### Bag of Words"
   ]
  },
  {
   "cell_type": "code",
   "execution_count": 8,
   "id": "bfabbe98",
   "metadata": {},
   "outputs": [],
   "source": [
    "with open('one.txt') as mytext:\n",
    "    #a = mytext.read()\n",
    "    b = mytext.readline()"
   ]
  },
  {
   "cell_type": "code",
   "execution_count": 2,
   "id": "c5120679",
   "metadata": {},
   "outputs": [
    {
     "name": "stdout",
     "output_type": "stream",
     "text": [
      "This is a story about dogs\n",
      "our canine pets\n",
      "Dogs are furry animals\n",
      "\n"
     ]
    }
   ],
   "source": [
    "print(a)"
   ]
  },
  {
   "cell_type": "code",
   "execution_count": 5,
   "id": "2473b327",
   "metadata": {},
   "outputs": [
    {
     "name": "stdout",
     "output_type": "stream",
     "text": [
      "['this', 'is', 'a', 'story', 'about', 'dogs', 'our', 'canine', 'pets', 'dogs', 'are', 'furry', 'animals'] \n",
      "\n"
     ]
    }
   ],
   "source": [
    "print(a.lower().split())"
   ]
  },
  {
   "cell_type": "code",
   "execution_count": 9,
   "id": "1b514fd5",
   "metadata": {},
   "outputs": [
    {
     "name": "stdout",
     "output_type": "stream",
     "text": [
      "This is a story about dogs\n",
      "\n"
     ]
    }
   ],
   "source": [
    "print(b)"
   ]
  },
  {
   "cell_type": "code",
   "execution_count": 10,
   "id": "e7c29d8a",
   "metadata": {},
   "outputs": [],
   "source": [
    "with open('two.txt') as mytext:\n",
    "    a = mytext.read()"
   ]
  },
  {
   "cell_type": "code",
   "execution_count": 11,
   "id": "cdb33041",
   "metadata": {},
   "outputs": [
    {
     "name": "stdout",
     "output_type": "stream",
     "text": [
      "This story is about surfing\n",
      "Catching waves is fun\n",
      "Surfing is a popular water sport\n",
      "\n"
     ]
    }
   ],
   "source": [
    "print(a)"
   ]
  },
  {
   "cell_type": "markdown",
   "id": "a69afac4",
   "metadata": {},
   "source": [
    "### Lets Build vocabulary "
   ]
  },
  {
   "cell_type": "markdown",
   "id": "cc6b2b1d",
   "metadata": {},
   "source": [
    "vocabulary is built by getting all unique words throughout the two documents"
   ]
  },
  {
   "cell_type": "markdown",
   "id": "dbcd8c17",
   "metadata": {},
   "source": [
    "#### list of words in one.txt"
   ]
  },
  {
   "cell_type": "code",
   "execution_count": 13,
   "id": "06d23fae",
   "metadata": {},
   "outputs": [],
   "source": [
    "with open('one.txt') as mytext:\n",
    "    words_one = mytext.read().lower().split()\n",
    "    uniq_words_one = set(words_one) # unique words , also removes duplicate words."
   ]
  },
  {
   "cell_type": "code",
   "execution_count": 14,
   "id": "fdf05ca1",
   "metadata": {},
   "outputs": [
    {
     "name": "stdout",
     "output_type": "stream",
     "text": [
      "{'a', 'our', 'story', 'animals', 'pets', 'this', 'is', 'furry', 'dogs', 'about', 'canine', 'are'}\n"
     ]
    }
   ],
   "source": [
    "print(uniq_words_one)"
   ]
  },
  {
   "cell_type": "markdown",
   "id": "7f2929a5",
   "metadata": {},
   "source": [
    "### list of words in two.text"
   ]
  },
  {
   "cell_type": "code",
   "execution_count": 15,
   "id": "3a676a39",
   "metadata": {},
   "outputs": [],
   "source": [
    "with open('two.txt') as mytext:\n",
    "    words_two = mytext.read().lower().split()\n",
    "    uniq_words_two = set(words_two)"
   ]
  },
  {
   "cell_type": "code",
   "execution_count": 16,
   "id": "d377dcb6",
   "metadata": {},
   "outputs": [
    {
     "name": "stdout",
     "output_type": "stream",
     "text": [
      "{'fun', 'a', 'story', 'catching', 'this', 'is', 'waves', 'popular', 'sport', 'about', 'surfing', 'water'}\n"
     ]
    }
   ],
   "source": [
    "print(uniq_words_two)"
   ]
  },
  {
   "cell_type": "markdown",
   "id": "230363bf",
   "metadata": {},
   "source": [
    "now we have unique words for document 1 and 2 now we need all the unique words across all the document"
   ]
  },
  {
   "cell_type": "markdown",
   "id": "522d5282",
   "metadata": {},
   "source": [
    "### Combine the unique words into one list"
   ]
  },
  {
   "cell_type": "code",
   "execution_count": 20,
   "id": "a45d3987",
   "metadata": {},
   "outputs": [],
   "source": [
    "#start by creating an empty list to store the two list of unique features from both document\n",
    "all_uniq_words = set()"
   ]
  },
  {
   "cell_type": "code",
   "execution_count": 21,
   "id": "ec41eb87",
   "metadata": {},
   "outputs": [],
   "source": [
    "#update the all_uniq_words list using update function.\n",
    "all_uniq_words.update(uniq_words_one)\n",
    "all_uniq_words.update(uniq_words_two)"
   ]
  },
  {
   "cell_type": "markdown",
   "id": "7fa1820f",
   "metadata": {},
   "source": [
    "### Assigh a number in each word"
   ]
  },
  {
   "cell_type": "code",
   "execution_count": 23,
   "id": "d5b777df",
   "metadata": {},
   "outputs": [],
   "source": [
    "#lets create an empty list\n",
    "full_vocab = dict()\n",
    "i = 0"
   ]
  },
  {
   "cell_type": "code",
   "execution_count": 24,
   "id": "b41cc600",
   "metadata": {},
   "outputs": [],
   "source": [
    "for word in all_uniq_words:\n",
    "    full_vocab[word] = i\n",
    "    i = i + 1"
   ]
  },
  {
   "cell_type": "code",
   "execution_count": 26,
   "id": "d52e56e4",
   "metadata": {},
   "outputs": [
    {
     "name": "stdout",
     "output_type": "stream",
     "text": [
      "{'our': 0, 'story': 1, 'animals': 2, 'waves': 3, 'popular': 4, 'surfing': 5, 'water': 6, 'are': 7, 'fun': 8, 'a': 9, 'pets': 10, 'this': 11, 'is': 12, 'furry': 13, 'dogs': 14, 'catching': 15, 'sport': 16, 'about': 17, 'canine': 18}\n"
     ]
    }
   ],
   "source": [
    "print(full_vocab)"
   ]
  },
  {
   "cell_type": "markdown",
   "id": "eef905dc",
   "metadata": {},
   "source": [
    "## Create 3 list"
   ]
  },
  {
   "cell_type": "code",
   "execution_count": 27,
   "id": "4d86f27a",
   "metadata": {},
   "outputs": [],
   "source": [
    "one_freq = [0] * len(full_vocab)\n",
    "two_freq = [0] * len(full_vocab)\n",
    "all_words = [\" \"] * len(full_vocab)"
   ]
  },
  {
   "cell_type": "code",
   "execution_count": 28,
   "id": "3f719f64",
   "metadata": {},
   "outputs": [
    {
     "data": {
      "text/plain": [
       "[0, 0, 0, 0, 0, 0, 0, 0, 0, 0, 0, 0, 0, 0, 0, 0, 0, 0, 0]"
      ]
     },
     "execution_count": 28,
     "metadata": {},
     "output_type": "execute_result"
    }
   ],
   "source": [
    "one_freq"
   ]
  },
  {
   "cell_type": "code",
   "execution_count": 29,
   "id": "1035f893",
   "metadata": {},
   "outputs": [
    {
     "data": {
      "text/plain": [
       "[0, 0, 0, 0, 0, 0, 0, 0, 0, 0, 0, 0, 0, 0, 0, 0, 0, 0, 0]"
      ]
     },
     "execution_count": 29,
     "metadata": {},
     "output_type": "execute_result"
    }
   ],
   "source": [
    "two_freq"
   ]
  },
  {
   "cell_type": "code",
   "execution_count": 30,
   "id": "4312d9cf",
   "metadata": {},
   "outputs": [],
   "source": [
    "with open('one.txt') as f:\n",
    "    one_text = f.read().lower().split()"
   ]
  },
  {
   "cell_type": "code",
   "execution_count": 31,
   "id": "b57fbc9d",
   "metadata": {},
   "outputs": [
    {
     "data": {
      "text/plain": [
       "['this',\n",
       " 'is',\n",
       " 'a',\n",
       " 'story',\n",
       " 'about',\n",
       " 'dogs',\n",
       " 'our',\n",
       " 'canine',\n",
       " 'pets',\n",
       " 'dogs',\n",
       " 'are',\n",
       " 'furry',\n",
       " 'animals']"
      ]
     },
     "execution_count": 31,
     "metadata": {},
     "output_type": "execute_result"
    }
   ],
   "source": [
    "one_text"
   ]
  },
  {
   "cell_type": "code",
   "execution_count": 32,
   "id": "c5196619",
   "metadata": {},
   "outputs": [],
   "source": [
    "for word in one_text:\n",
    "    word_ind = full_vocab[word]\n",
    "    one_freq[word_ind] += 1"
   ]
  },
  {
   "cell_type": "code",
   "execution_count": 33,
   "id": "d0df902c",
   "metadata": {},
   "outputs": [
    {
     "data": {
      "text/plain": [
       "[1, 1, 1, 0, 0, 0, 0, 1, 0, 1, 1, 1, 1, 1, 2, 0, 0, 1, 1]"
      ]
     },
     "execution_count": 33,
     "metadata": {},
     "output_type": "execute_result"
    }
   ],
   "source": [
    "one_freq"
   ]
  },
  {
   "cell_type": "code",
   "execution_count": 34,
   "id": "c96c2d82",
   "metadata": {},
   "outputs": [],
   "source": [
    "with open ('two.txt') as f:\n",
    "    two_text = f.read().lower().split()"
   ]
  },
  {
   "cell_type": "code",
   "execution_count": 35,
   "id": "427abd27",
   "metadata": {},
   "outputs": [],
   "source": [
    "for word in two_text:\n",
    "    word_ind = full_vocab[word]\n",
    "    two_freq [word_ind] +=1"
   ]
  },
  {
   "cell_type": "code",
   "execution_count": 36,
   "id": "809e19bb",
   "metadata": {},
   "outputs": [
    {
     "data": {
      "text/plain": [
       "[0, 1, 0, 1, 1, 2, 1, 0, 1, 1, 0, 1, 3, 0, 0, 1, 1, 1, 0]"
      ]
     },
     "execution_count": 36,
     "metadata": {},
     "output_type": "execute_result"
    }
   ],
   "source": [
    "two_freq"
   ]
  },
  {
   "cell_type": "markdown",
   "id": "169fe43a",
   "metadata": {},
   "source": [
    "### Create a list that contains all the words"
   ]
  },
  {
   "cell_type": "code",
   "execution_count": 37,
   "id": "8bc42641",
   "metadata": {},
   "outputs": [
    {
     "data": {
      "text/plain": [
       "[' ',\n",
       " ' ',\n",
       " ' ',\n",
       " ' ',\n",
       " ' ',\n",
       " ' ',\n",
       " ' ',\n",
       " ' ',\n",
       " ' ',\n",
       " ' ',\n",
       " ' ',\n",
       " ' ',\n",
       " ' ',\n",
       " ' ',\n",
       " ' ',\n",
       " ' ',\n",
       " ' ',\n",
       " ' ',\n",
       " ' ']"
      ]
     },
     "execution_count": 37,
     "metadata": {},
     "output_type": "execute_result"
    }
   ],
   "source": [
    "all_words"
   ]
  },
  {
   "cell_type": "code",
   "execution_count": 38,
   "id": "3c98d298",
   "metadata": {},
   "outputs": [],
   "source": [
    "for word in full_vocab:\n",
    "    word_ind = full_vocab[word]\n",
    "    all_words[word_ind] = word"
   ]
  },
  {
   "cell_type": "code",
   "execution_count": 39,
   "id": "16495c71",
   "metadata": {},
   "outputs": [
    {
     "data": {
      "text/plain": [
       "['our',\n",
       " 'story',\n",
       " 'animals',\n",
       " 'waves',\n",
       " 'popular',\n",
       " 'surfing',\n",
       " 'water',\n",
       " 'are',\n",
       " 'fun',\n",
       " 'a',\n",
       " 'pets',\n",
       " 'this',\n",
       " 'is',\n",
       " 'furry',\n",
       " 'dogs',\n",
       " 'catching',\n",
       " 'sport',\n",
       " 'about',\n",
       " 'canine']"
      ]
     },
     "execution_count": 39,
     "metadata": {},
     "output_type": "execute_result"
    }
   ],
   "source": [
    "all_words"
   ]
  },
  {
   "cell_type": "markdown",
   "id": "a1f46fe6",
   "metadata": {},
   "source": [
    "### Build DataFrame"
   ]
  },
  {
   "cell_type": "code",
   "execution_count": 40,
   "id": "5e84b488",
   "metadata": {},
   "outputs": [],
   "source": [
    "import pandas as pd"
   ]
  },
  {
   "cell_type": "code",
   "execution_count": 41,
   "id": "019d6359",
   "metadata": {},
   "outputs": [],
   "source": [
    "bow = pd.DataFrame(data = [one_freq, two_freq], columns = all_words)"
   ]
  },
  {
   "cell_type": "code",
   "execution_count": 42,
   "id": "1b672fc2",
   "metadata": {},
   "outputs": [
    {
     "data": {
      "text/html": [
       "<div>\n",
       "<style scoped>\n",
       "    .dataframe tbody tr th:only-of-type {\n",
       "        vertical-align: middle;\n",
       "    }\n",
       "\n",
       "    .dataframe tbody tr th {\n",
       "        vertical-align: top;\n",
       "    }\n",
       "\n",
       "    .dataframe thead th {\n",
       "        text-align: right;\n",
       "    }\n",
       "</style>\n",
       "<table border=\"1\" class=\"dataframe\">\n",
       "  <thead>\n",
       "    <tr style=\"text-align: right;\">\n",
       "      <th></th>\n",
       "      <th>our</th>\n",
       "      <th>story</th>\n",
       "      <th>animals</th>\n",
       "      <th>waves</th>\n",
       "      <th>popular</th>\n",
       "      <th>surfing</th>\n",
       "      <th>water</th>\n",
       "      <th>are</th>\n",
       "      <th>fun</th>\n",
       "      <th>a</th>\n",
       "      <th>pets</th>\n",
       "      <th>this</th>\n",
       "      <th>is</th>\n",
       "      <th>furry</th>\n",
       "      <th>dogs</th>\n",
       "      <th>catching</th>\n",
       "      <th>sport</th>\n",
       "      <th>about</th>\n",
       "      <th>canine</th>\n",
       "    </tr>\n",
       "  </thead>\n",
       "  <tbody>\n",
       "    <tr>\n",
       "      <th>0</th>\n",
       "      <td>1</td>\n",
       "      <td>1</td>\n",
       "      <td>1</td>\n",
       "      <td>0</td>\n",
       "      <td>0</td>\n",
       "      <td>0</td>\n",
       "      <td>0</td>\n",
       "      <td>1</td>\n",
       "      <td>0</td>\n",
       "      <td>1</td>\n",
       "      <td>1</td>\n",
       "      <td>1</td>\n",
       "      <td>1</td>\n",
       "      <td>1</td>\n",
       "      <td>2</td>\n",
       "      <td>0</td>\n",
       "      <td>0</td>\n",
       "      <td>1</td>\n",
       "      <td>1</td>\n",
       "    </tr>\n",
       "    <tr>\n",
       "      <th>1</th>\n",
       "      <td>0</td>\n",
       "      <td>1</td>\n",
       "      <td>0</td>\n",
       "      <td>1</td>\n",
       "      <td>1</td>\n",
       "      <td>2</td>\n",
       "      <td>1</td>\n",
       "      <td>0</td>\n",
       "      <td>1</td>\n",
       "      <td>1</td>\n",
       "      <td>0</td>\n",
       "      <td>1</td>\n",
       "      <td>3</td>\n",
       "      <td>0</td>\n",
       "      <td>0</td>\n",
       "      <td>1</td>\n",
       "      <td>1</td>\n",
       "      <td>1</td>\n",
       "      <td>0</td>\n",
       "    </tr>\n",
       "  </tbody>\n",
       "</table>\n",
       "</div>"
      ],
      "text/plain": [
       "   our  story  animals  waves  popular  surfing  water  are  fun  a  pets  \\\n",
       "0    1      1        1      0        0        0      0    1    0  1     1   \n",
       "1    0      1        0      1        1        2      1    0    1  1     0   \n",
       "\n",
       "   this  is  furry  dogs  catching  sport  about  canine  \n",
       "0     1   1      1     2         0      0      1       1  \n",
       "1     1   3      0     0         1      1      1       0  "
      ]
     },
     "execution_count": 42,
     "metadata": {},
     "output_type": "execute_result"
    }
   ],
   "source": [
    "bow"
   ]
  },
  {
   "cell_type": "code",
   "execution_count": null,
   "id": "0fea3577",
   "metadata": {},
   "outputs": [],
   "source": []
  }
 ],
 "metadata": {
  "kernelspec": {
   "display_name": "Python 3 (ipykernel)",
   "language": "python",
   "name": "python3"
  },
  "language_info": {
   "codemirror_mode": {
    "name": "ipython",
    "version": 3
   },
   "file_extension": ".py",
   "mimetype": "text/x-python",
   "name": "python",
   "nbconvert_exporter": "python",
   "pygments_lexer": "ipython3",
   "version": "3.10.9"
  }
 },
 "nbformat": 4,
 "nbformat_minor": 5
}
